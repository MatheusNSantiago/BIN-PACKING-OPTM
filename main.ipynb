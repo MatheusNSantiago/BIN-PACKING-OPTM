{
 "cells": [
  {
   "cell_type": "code",
   "execution_count": 119,
   "metadata": {},
   "outputs": [],
   "source": [
    "import os\n",
    "import utils\n",
    "import matplotlib.pyplot as plt\n",
    "import seaborn as sns\n",
    "import numpy as np\n",
    "\n",
    "sns.set()"
   ]
  },
  {
   "cell_type": "code",
   "execution_count": 120,
   "metadata": {},
   "outputs": [],
   "source": [
    "problems = sorted(os.listdir(\"input\"))\n",
    "\n",
    "problems.remove(\"Waescher_TEST0082.txt\")"
   ]
  },
  {
   "cell_type": "markdown",
   "metadata": {},
   "source": [
    "### First-fit\n",
    "Para cada item, o algoritmo first-fit inspeciona os pacotes, na ordem em que foram abertos, e insere o item no primeiro pacote que suporta o seu peso. Caso não exista um pacote que atenda essa restrição, um novo pacote é aberto pelo algoritmo."
   ]
  },
  {
   "cell_type": "code",
   "execution_count": 87,
   "metadata": {},
   "outputs": [],
   "source": [
    "def first_fit(w, itens):\n",
    "    pacotes = [0]\n",
    "\n",
    "    for item in itens:\n",
    "        for idx, pacote in enumerate(pacotes):\n",
    "            if item + pacote <= w:  # Se cabe no pacote\n",
    "                pacotes[idx] += item  # Adiciona o item\n",
    "                break  # Para de olhar por pacotes\n",
    "\n",
    "            if idx == len(pacotes) - 1:\n",
    "                pacotes.append(item)\n",
    "\n",
    "    return len(pacotes)\n"
   ]
  },
  {
   "cell_type": "markdown",
   "metadata": {},
   "source": [
    "### Next-fit\n",
    "O algoritmo next-fit tenta enquadrar cada item no pacote mais recentemente aberto (inicia-se com um pacote aberto vazio). Caso o pacote não comporte o item a ser inserido, um novo pacote é aberto para a inclusão deste item."
   ]
  },
  {
   "cell_type": "code",
   "execution_count": 88,
   "metadata": {},
   "outputs": [],
   "source": [
    "def next_fit(w, p_itens):\n",
    "    p_pacote = 0\n",
    "    n_pacotes = 1\n",
    "\n",
    "    for pi in p_itens:\n",
    "        if p_pacote + pi < w:\n",
    "            p_pacote += pi\n",
    "        else:\n",
    "            n_pacotes += 1\n",
    "            p_pacote = pi\n",
    "    return n_pacotes\n"
   ]
  },
  {
   "cell_type": "markdown",
   "metadata": {},
   "source": [
    "### Best-fit\n",
    "O algoritmo best-fit tenta enquadrar cada item no pacote com maior peso que suporte o peso do item, isto é, a soma dos pesos que já estava no pacote mais o peso do item a ser inserido não podem exceder a capacidade do pacote. Caso não exista pacote que atenda esta condição, um novo pacote é aberto pelo algoritmo para a inclusão do item"
   ]
  },
  {
   "cell_type": "code",
   "execution_count": 89,
   "metadata": {},
   "outputs": [],
   "source": [
    "def best_fit(w, peso_itens ):\n",
    "    pacotes = [0]\n",
    "\n",
    "    for pi in peso_itens:\n",
    "        idx_melhor_pacote = 0\n",
    "        achou_pacote = False\n",
    "\n",
    "        for idx, pacote in enumerate(pacotes):\n",
    "            peso_restante = w - (pacote + pi)\n",
    "\n",
    "            if (peso_restante>= 0) and (peso_restante < pacotes[idx_melhor_pacote]):\n",
    "                idx_melhor_pacote = idx\n",
    "                achou_pacote = True\n",
    "\n",
    "            pacotes[idx] += pi\n",
    "\n",
    "        if not achou_pacote:\n",
    "            pacotes.append(pi)\n",
    "\n",
    "    return len(pacotes)\n"
   ]
  },
  {
   "cell_type": "markdown",
   "metadata": {},
   "source": [
    "### Análise da aproximação"
   ]
  },
  {
   "cell_type": "code",
   "execution_count": 118,
   "metadata": {},
   "outputs": [
    {
     "data": {
      "image/png": "[encoded data removed]",
      "text/plain": [
       "<Figure size 1152x576 with 3 Axes>"
      ]
     },
     "metadata": {},
     "output_type": "display_data"
    }
   ],
   "source": [
    "fig, ax = plt.subplots(1, 3, sharex=True, sharey=True, figsize=(16, 8), frameon=True)\n",
    "\n",
    "res = {\"First Fit\": [], \"Next Fit\": [], \"Best Fit\": []}\n",
    "\n",
    "for i, method in enumerate([first_fit, next_fit, best_fit]):\n",
    "    perfs = []\n",
    "    for problem in problems:\n",
    "        optimal_solution, w, itens = get_problem_info(problem)\n",
    "\n",
    "        resultado = method(w, itens)\n",
    "\n",
    "        perf = round(resultado / optimal_solution, 3)\n",
    "        perfs.append(perf)\n",
    "\n",
    "    sns.boxplot(data=perfs, ax=ax[i])\n",
    "    ax[i].set_title(list(res.keys())[i])\n",
    "\n",
    "ax[0].set_ylabel(\"Desempenho\")\n",
    "plt.yticks(np.linspace(1, 2, num=11, endpoint=True))\n",
    "plt.xticks([])\n",
    "plt.show()"
   ]
  }
 ],
 "metadata": {
  "kernelspec": {
   "display_name": "Python 3.10.5 64-bit",
   "language": "python",
   "name": "python3"
  },
  "language_info": {
   "codemirror_mode": {
    "name": "ipython",
    "version": 3
   },
   "file_extension": ".py",
   "mimetype": "text/x-python",
   "name": "python",
   "nbconvert_exporter": "python",
   "pygments_lexer": "ipython3",
   "version": "3.10.5"
  },
  "orig_nbformat": 4,
  "vscode": {
   "interpreter": {
    "hash": "e7370f93d1d0cde622a1f8e1c04877d8463912d04d973331ad4851f04de6915a"
   }
  }
 },
 "nbformat": 4,
 "nbformat_minor": 2
}
